{
 "cells": [
  {
   "cell_type": "code",
   "execution_count": 1,
   "metadata": {},
   "outputs": [],
   "source": [
    "#Fdf"
   ]
  },
  {
   "cell_type": "code",
   "execution_count": null,
   "metadata": {},
   "outputs": [],
   "source": []
  },
  {
   "cell_type": "code",
   "execution_count": 2,
   "metadata": {},
   "outputs": [
    {
     "name": "stdout",
     "output_type": "stream",
     "text": [
      "electionfyp\n"
     ]
    }
   ],
   "source": [
    "import tweepy\n",
    "import pandas as pd\n",
    "#import Tkinter\n",
    "import tkinter\n",
    "consumer_key = 'yPi4sXv6bOnI2qZslqnE6Nvp3'\n",
    "consumer_secret = '2QdISUumNzUKuymjGFvS821rigifQQO2rkpQFxm22ChPu20Agn'\n",
    "access_token = '994309349689516034-eAIff4Liu0PCEEcsKcUm2Qw2KT7lnbY'\n",
    "access_token_secret = 'ReNZUPrCy5ziDjJR2x2lGR6q3d9E3oQU3FKYBAB83Bh6x'\n",
    "auth = tweepy.OAuthHandler(consumer_key, consumer_secret)\n",
    "auth.set_access_token(access_token, access_token_secret)\n",
    "api = tweepy.API(auth)\n",
    "user = api.me()\n",
    "print (user.name)"
   ]
  },
  {
   "cell_type": "code",
   "execution_count": 3,
   "metadata": {},
   "outputs": [],
   "source": [
    "df = pd.DataFrame(columns=['text', 'source', 'url'])\n",
    "msgs = []\n",
    "msg =[]\n",
    "\n",
    "for tweet in tweepy.Cursor(api.search, q='#bmw', lang='en',rpp=100).items(10):\n",
    "    msg = [tweet.text, tweet.created_at, \"bmw\"] \n",
    "    msg = tuple(msg)                    \n",
    "    msgs.append(msg)\n",
    "df2 = pd.DataFrame(msgs)\n",
    "df2.columns = ['Text', 'time','topic']    "
   ]
  },
  {
   "cell_type": "code",
   "execution_count": 4,
   "metadata": {},
   "outputs": [
    {
     "data": {
      "text/html": [
       "<div>\n",
       "<style scoped>\n",
       "    .dataframe tbody tr th:only-of-type {\n",
       "        vertical-align: middle;\n",
       "    }\n",
       "\n",
       "    .dataframe tbody tr th {\n",
       "        vertical-align: top;\n",
       "    }\n",
       "\n",
       "    .dataframe thead th {\n",
       "        text-align: right;\n",
       "    }\n",
       "</style>\n",
       "<table border=\"1\" class=\"dataframe\">\n",
       "  <thead>\n",
       "    <tr style=\"text-align: right;\">\n",
       "      <th></th>\n",
       "      <th>Text</th>\n",
       "      <th>time</th>\n",
       "      <th>topic</th>\n",
       "    </tr>\n",
       "  </thead>\n",
       "  <tbody>\n",
       "    <tr>\n",
       "      <th>0</th>\n",
       "      <td>drinks run 🤘 #vagmen #vagmengroup #vw #golf #g...</td>\n",
       "      <td>2019-03-24 11:51:34</td>\n",
       "      <td>bmw</td>\n",
       "    </tr>\n",
       "    <tr>\n",
       "      <th>1</th>\n",
       "      <td>RT @BMW: Generations of experience. The all-ne...</td>\n",
       "      <td>2019-03-24 11:50:09</td>\n",
       "      <td>bmw</td>\n",
       "    </tr>\n",
       "    <tr>\n",
       "      <th>2</th>\n",
       "      <td>For sale -&amp;gt; 2015 #BMW #3-Series in #SaltLak...</td>\n",
       "      <td>2019-03-24 11:50:01</td>\n",
       "      <td>bmw</td>\n",
       "    </tr>\n",
       "    <tr>\n",
       "      <th>3</th>\n",
       "      <td>RT @BMW: Generations of experience. The all-ne...</td>\n",
       "      <td>2019-03-24 11:47:10</td>\n",
       "      <td>bmw</td>\n",
       "    </tr>\n",
       "    <tr>\n",
       "      <th>4</th>\n",
       "      <td>New #BMW 1 Series will be unveiled this year h...</td>\n",
       "      <td>2019-03-24 11:45:33</td>\n",
       "      <td>bmw</td>\n",
       "    </tr>\n",
       "    <tr>\n",
       "      <th>5</th>\n",
       "      <td>RT @BMW_Classic: Happy 80th Birthday, Jochen #...</td>\n",
       "      <td>2019-03-24 11:42:00</td>\n",
       "      <td>bmw</td>\n",
       "    </tr>\n",
       "    <tr>\n",
       "      <th>6</th>\n",
       "      <td>RT @BMW: Generations of experience. The all-ne...</td>\n",
       "      <td>2019-03-24 11:32:55</td>\n",
       "      <td>bmw</td>\n",
       "    </tr>\n",
       "    <tr>\n",
       "      <th>7</th>\n",
       "      <td>The all-new #BMW #3Series Sedan. https://t.co/...</td>\n",
       "      <td>2019-03-24 11:32:42</td>\n",
       "      <td>bmw</td>\n",
       "    </tr>\n",
       "    <tr>\n",
       "      <th>8</th>\n",
       "      <td>RT @tom_blomqvist: Pole and a 3rd place to end...</td>\n",
       "      <td>2019-03-24 11:32:25</td>\n",
       "      <td>bmw</td>\n",
       "    </tr>\n",
       "    <tr>\n",
       "      <th>9</th>\n",
       "      <td>Out of hibernation ready to go #bmw #bmwz3 #zr...</td>\n",
       "      <td>2019-03-24 11:31:27</td>\n",
       "      <td>bmw</td>\n",
       "    </tr>\n",
       "  </tbody>\n",
       "</table>\n",
       "</div>"
      ],
      "text/plain": [
       "                                                Text                time topic\n",
       "0  drinks run 🤘 #vagmen #vagmengroup #vw #golf #g... 2019-03-24 11:51:34   bmw\n",
       "1  RT @BMW: Generations of experience. The all-ne... 2019-03-24 11:50:09   bmw\n",
       "2  For sale -&gt; 2015 #BMW #3-Series in #SaltLak... 2019-03-24 11:50:01   bmw\n",
       "3  RT @BMW: Generations of experience. The all-ne... 2019-03-24 11:47:10   bmw\n",
       "4  New #BMW 1 Series will be unveiled this year h... 2019-03-24 11:45:33   bmw\n",
       "5  RT @BMW_Classic: Happy 80th Birthday, Jochen #... 2019-03-24 11:42:00   bmw\n",
       "6  RT @BMW: Generations of experience. The all-ne... 2019-03-24 11:32:55   bmw\n",
       "7  The all-new #BMW #3Series Sedan. https://t.co/... 2019-03-24 11:32:42   bmw\n",
       "8  RT @tom_blomqvist: Pole and a 3rd place to end... 2019-03-24 11:32:25   bmw\n",
       "9  Out of hibernation ready to go #bmw #bmwz3 #zr... 2019-03-24 11:31:27   bmw"
      ]
     },
     "execution_count": 4,
     "metadata": {},
     "output_type": "execute_result"
    }
   ],
   "source": [
    "df2"
   ]
  },
  {
   "cell_type": "code",
   "execution_count": null,
   "metadata": {},
   "outputs": [],
   "source": []
  },
  {
   "cell_type": "code",
   "execution_count": 6,
   "metadata": {},
   "outputs": [
    {
     "data": {
      "text/plain": [
       "0    drinks run 🤘 #vagmen #vagmengroup #vw #golf #g...\n",
       "1    RT @BMW: Generations of experience. The all-ne...\n",
       "2    For sale -&gt; 2015 #BMW #3-Series in #SaltLak...\n",
       "3    RT @BMW: Generations of experience. The all-ne...\n",
       "4    New #BMW 1 Series will be unveiled this year h...\n",
       "5    RT @BMW_Classic: Happy 80th Birthday, Jochen #...\n",
       "6    RT @BMW: Generations of experience. The all-ne...\n",
       "7    The all-new #BMW #3Series Sedan. https://t.co/...\n",
       "8    RT @tom_blomqvist: Pole and a 3rd place to end...\n",
       "9    Out of hibernation ready to go #bmw #bmwz3 #zr...\n",
       "Name: Text, dtype: object"
      ]
     },
     "execution_count": 6,
     "metadata": {},
     "output_type": "execute_result"
    }
   ],
   "source": [
    "df2['Text']"
   ]
  },
  {
   "cell_type": "code",
   "execution_count": 12,
   "metadata": {},
   "outputs": [
    {
     "data": {
      "text/plain": [
       "'!\"#$%&\\'()*+,-./:;<=>?@[\\\\]^_`{|}~'"
      ]
     },
     "execution_count": 12,
     "metadata": {},
     "output_type": "execute_result"
    }
   ],
   "source": [
    "import string\n",
    "import re\n",
    "string.punctuation\n"
   ]
  },
  {
   "cell_type": "code",
   "execution_count": 13,
   "metadata": {},
   "outputs": [],
   "source": [
    "def remove_punct(text):\n",
    "    text  = \"\".join([char for char in text if char not in string.punctuation])\n",
    "    text = re.sub('[0-9]+', '', text)\n",
    "    return text"
   ]
  },
  {
   "cell_type": "code",
   "execution_count": 14,
   "metadata": {},
   "outputs": [
    {
     "data": {
      "text/html": [
       "<div>\n",
       "<style scoped>\n",
       "    .dataframe tbody tr th:only-of-type {\n",
       "        vertical-align: middle;\n",
       "    }\n",
       "\n",
       "    .dataframe tbody tr th {\n",
       "        vertical-align: top;\n",
       "    }\n",
       "\n",
       "    .dataframe thead th {\n",
       "        text-align: right;\n",
       "    }\n",
       "</style>\n",
       "<table border=\"1\" class=\"dataframe\">\n",
       "  <thead>\n",
       "    <tr style=\"text-align: right;\">\n",
       "      <th></th>\n",
       "      <th>Text</th>\n",
       "      <th>time</th>\n",
       "      <th>topic</th>\n",
       "      <th>Text_punct</th>\n",
       "    </tr>\n",
       "  </thead>\n",
       "  <tbody>\n",
       "    <tr>\n",
       "      <th>0</th>\n",
       "      <td>drinks run 🤘 #vagmen #vagmengroup #vw #golf #g...</td>\n",
       "      <td>2019-03-24 11:51:34</td>\n",
       "      <td>bmw</td>\n",
       "      <td>drinks run 🤘 vagmen vagmengroup vw golf gti vw...</td>\n",
       "    </tr>\n",
       "    <tr>\n",
       "      <th>1</th>\n",
       "      <td>RT @BMW: Generations of experience. The all-ne...</td>\n",
       "      <td>2019-03-24 11:50:09</td>\n",
       "      <td>bmw</td>\n",
       "      <td>RT BMW Generations of experience The allnew BM...</td>\n",
       "    </tr>\n",
       "    <tr>\n",
       "      <th>2</th>\n",
       "      <td>For sale -&amp;gt; 2015 #BMW #3-Series in #SaltLak...</td>\n",
       "      <td>2019-03-24 11:50:01</td>\n",
       "      <td>bmw</td>\n",
       "      <td>For sale gt  BMW Series in SaltLakeCity UT  ht...</td>\n",
       "    </tr>\n",
       "    <tr>\n",
       "      <th>3</th>\n",
       "      <td>RT @BMW: Generations of experience. The all-ne...</td>\n",
       "      <td>2019-03-24 11:47:10</td>\n",
       "      <td>bmw</td>\n",
       "      <td>RT BMW Generations of experience The allnew BM...</td>\n",
       "    </tr>\n",
       "    <tr>\n",
       "      <th>4</th>\n",
       "      <td>New #BMW 1 Series will be unveiled this year h...</td>\n",
       "      <td>2019-03-24 11:45:33</td>\n",
       "      <td>bmw</td>\n",
       "      <td>New BMW  Series will be unveiled this year htt...</td>\n",
       "    </tr>\n",
       "    <tr>\n",
       "      <th>5</th>\n",
       "      <td>RT @BMW_Classic: Happy 80th Birthday, Jochen #...</td>\n",
       "      <td>2019-03-24 11:42:00</td>\n",
       "      <td>bmw</td>\n",
       "      <td>RT BMWClassic Happy th Birthday Jochen Neerpas...</td>\n",
       "    </tr>\n",
       "    <tr>\n",
       "      <th>6</th>\n",
       "      <td>RT @BMW: Generations of experience. The all-ne...</td>\n",
       "      <td>2019-03-24 11:32:55</td>\n",
       "      <td>bmw</td>\n",
       "      <td>RT BMW Generations of experience The allnew BM...</td>\n",
       "    </tr>\n",
       "    <tr>\n",
       "      <th>7</th>\n",
       "      <td>The all-new #BMW #3Series Sedan. https://t.co/...</td>\n",
       "      <td>2019-03-24 11:32:42</td>\n",
       "      <td>bmw</td>\n",
       "      <td>The allnew BMW Series Sedan httpstcoheAfhefht</td>\n",
       "    </tr>\n",
       "    <tr>\n",
       "      <th>8</th>\n",
       "      <td>RT @tom_blomqvist: Pole and a 3rd place to end...</td>\n",
       "      <td>2019-03-24 11:32:25</td>\n",
       "      <td>bmw</td>\n",
       "      <td>RT tomblomqvist Pole and a rd place to end the...</td>\n",
       "    </tr>\n",
       "    <tr>\n",
       "      <th>9</th>\n",
       "      <td>Out of hibernation ready to go #bmw #bmwz3 #zr...</td>\n",
       "      <td>2019-03-24 11:31:27</td>\n",
       "      <td>bmw</td>\n",
       "      <td>Out of hibernation ready to go bmw bmwz zroads...</td>\n",
       "    </tr>\n",
       "  </tbody>\n",
       "</table>\n",
       "</div>"
      ],
      "text/plain": [
       "                                                Text                time  \\\n",
       "0  drinks run 🤘 #vagmen #vagmengroup #vw #golf #g... 2019-03-24 11:51:34   \n",
       "1  RT @BMW: Generations of experience. The all-ne... 2019-03-24 11:50:09   \n",
       "2  For sale -&gt; 2015 #BMW #3-Series in #SaltLak... 2019-03-24 11:50:01   \n",
       "3  RT @BMW: Generations of experience. The all-ne... 2019-03-24 11:47:10   \n",
       "4  New #BMW 1 Series will be unveiled this year h... 2019-03-24 11:45:33   \n",
       "5  RT @BMW_Classic: Happy 80th Birthday, Jochen #... 2019-03-24 11:42:00   \n",
       "6  RT @BMW: Generations of experience. The all-ne... 2019-03-24 11:32:55   \n",
       "7  The all-new #BMW #3Series Sedan. https://t.co/... 2019-03-24 11:32:42   \n",
       "8  RT @tom_blomqvist: Pole and a 3rd place to end... 2019-03-24 11:32:25   \n",
       "9  Out of hibernation ready to go #bmw #bmwz3 #zr... 2019-03-24 11:31:27   \n",
       "\n",
       "  topic                                         Text_punct  \n",
       "0   bmw  drinks run 🤘 vagmen vagmengroup vw golf gti vw...  \n",
       "1   bmw  RT BMW Generations of experience The allnew BM...  \n",
       "2   bmw  For sale gt  BMW Series in SaltLakeCity UT  ht...  \n",
       "3   bmw  RT BMW Generations of experience The allnew BM...  \n",
       "4   bmw  New BMW  Series will be unveiled this year htt...  \n",
       "5   bmw  RT BMWClassic Happy th Birthday Jochen Neerpas...  \n",
       "6   bmw  RT BMW Generations of experience The allnew BM...  \n",
       "7   bmw      The allnew BMW Series Sedan httpstcoheAfhefht  \n",
       "8   bmw  RT tomblomqvist Pole and a rd place to end the...  \n",
       "9   bmw  Out of hibernation ready to go bmw bmwz zroads...  "
      ]
     },
     "execution_count": 14,
     "metadata": {},
     "output_type": "execute_result"
    }
   ],
   "source": [
    "df2['Text_punct'] = df2['Text'].apply(lambda x: remove_punct(x))\n",
    "df2.head(10)"
   ]
  },
  {
   "cell_type": "code",
   "execution_count": null,
   "metadata": {},
   "outputs": [],
   "source": []
  }
 ],
 "metadata": {
  "kernelspec": {
   "display_name": "Python 3",
   "language": "python",
   "name": "python3"
  },
  "language_info": {
   "codemirror_mode": {
    "name": "ipython",
    "version": 3
   },
   "file_extension": ".py",
   "mimetype": "text/x-python",
   "name": "python",
   "nbconvert_exporter": "python",
   "pygments_lexer": "ipython3",
   "version": "3.6.5"
  }
 },
 "nbformat": 4,
 "nbformat_minor": 2
}
